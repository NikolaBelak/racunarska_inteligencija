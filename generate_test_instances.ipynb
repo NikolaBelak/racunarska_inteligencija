{
 "cells": [
  {
   "cell_type": "code",
   "execution_count": 18,
   "id": "08df790f",
   "metadata": {},
   "outputs": [],
   "source": [
    "import random\n",
    "import os"
   ]
  },
  {
   "cell_type": "code",
   "execution_count": 19,
   "id": "0a3a0795",
   "metadata": {},
   "outputs": [],
   "source": [
    "def generate_random_3cnf_formula(num_variable,max_clauses):\n",
    "    num_clauses=random.randint(1,max_clauses)\n",
    "    \n",
    "    variables = list(range(1,num_variable+1))\n",
    "    clauses = []\n",
    "    for _ in range(num_clauses):\n",
    "        clause = [random.choice(variables) for _ in range(3)]\n",
    "        for i in range(3):\n",
    "            if random.random() < 0.5:\n",
    "                clause[i] = -clause[i]\n",
    "        clauses.append(clause)\n",
    "    return clauses"
   ]
  },
  {
   "cell_type": "code",
   "execution_count": 20,
   "id": "187107a7",
   "metadata": {},
   "outputs": [],
   "source": [
    "def save_formulas_to_file(filename,variables,formulas):\n",
    "    filepath=os.path.join(\"datasets\",filename)\n",
    "    with open(filepath, \"w\") as file:\n",
    "        file.write(f\"Variables: {','.join(map(str,variables))}\\n\")\n",
    "        file.write(\"Formulas:\\n\")\n",
    "        for formula in formulas:\n",
    "            for clause in formula:\n",
    "                line = \" \".join(map(str,clause))\n",
    "                file.write(line + \"\\n\")\n",
    "            file.write(\"\\n\")"
   ]
  },
  {
   "cell_type": "code",
   "execution_count": 21,
   "id": "c59501ac",
   "metadata": {},
   "outputs": [],
   "source": [
    "def extract_variables_from_formulas(formulas):\n",
    "    variables_set = set()\n",
    "    for formula in formulas:\n",
    "        for clause in formula:\n",
    "            for literal in clause:\n",
    "                variable = abs(literal)\n",
    "                variables_set.add(variable)\n",
    "    variables_list = sorted(list(variables_set))\n",
    "    return variables_list\n"
   ]
  },
  {
   "cell_type": "code",
   "execution_count": 22,
   "id": "4b820bcf",
   "metadata": {},
   "outputs": [],
   "source": [
    "#num_formulas=random.randint(15,50)\n",
    "#max_variable=10\n",
    "#num_variable=random.randint(5,max_variable)\n",
    "#formulas=[generate_random_3cnf_formula(8,3) for _ in range(num_formulas)]\n",
    "#variables=extract_variables_from_formulas(formulas)\n",
    "#save_formulas_to_file(\"random_3cnf_small_test_1.txt\",variables,formulas)"
   ]
  },
  {
   "cell_type": "code",
   "execution_count": 23,
   "id": "db925d6a",
   "metadata": {},
   "outputs": [],
   "source": [
    "#num_formulas=random.randint(15,50)\n",
    "#max_variable=10\n",
    "#num_variable=random.randint(5,max_variable)\n",
    "#formulas=[generate_random_3cnf_formula(8,3) for _ in range(num_formulas)]\n",
    "#variables=extract_variables_from_formulas(formulas)\n",
    "#save_formulas_to_file(\"random_3cnf_small_test_2.txt\",variables,formulas)"
   ]
  },
  {
   "cell_type": "code",
   "execution_count": 24,
   "id": "2554b1ea",
   "metadata": {},
   "outputs": [],
   "source": [
    "#num_formulas=random.randint(100,500)\n",
    "#max_variable=35\n",
    "#num_variable=random.randint(15,max_variable)\n",
    "#formulas=[generate_random_3cnf_formula(num_variable,10) for _ in range(num_formulas)]\n",
    "#variables=extract_variables_from_formulas(formulas)\n",
    "#save_formulas_to_file(\"random_3cnf_large_test_3.txt\",variables,formulas)"
   ]
  },
  {
   "cell_type": "code",
   "execution_count": 25,
   "id": "bb68a227",
   "metadata": {},
   "outputs": [],
   "source": [
    "#num_formulas=random.randint(100,500)\n",
    "#max_variable=35\n",
    "#num_variable=random.randint(15,max_variable)\n",
    "#formulas=[generate_random_3cnf_formula(num_variable,10) for _ in range(num_formulas)]\n",
    "#variables=extract_variables_from_formulas(formulas)\n",
    "#save_formulas_to_file(\"random_3cnf_large_test_4.txt\",variables,formulas)"
   ]
  },
  {
   "cell_type": "code",
   "execution_count": 26,
   "id": "77eb7672",
   "metadata": {},
   "outputs": [],
   "source": [
    "#num_formulas=random.randint(100,500)\n",
    "#max_variable=50\n",
    "#num_variable=random.randint(35,max_variable)\n",
    "#formulas=[generate_random_3cnf_formula(num_variable,10) for _ in range(num_formulas)]\n",
    "#variables=extract_variables_from_formulas(formulas)\n",
    "#save_formulas_to_file(\"random_3cnf_large_test_5.txt\",variables,formulas)"
   ]
  },
  {
   "cell_type": "code",
   "execution_count": 27,
   "id": "7e78854e",
   "metadata": {},
   "outputs": [],
   "source": [
    "#num_formulas=random.randint(100,500)\n",
    "#max_variable=50\n",
    "#num_variable=random.randint(35,max_variable)\n",
    "#formulas=[generate_random_3cnf_formula(num_variable,10) for _ in range(num_formulas)]\n",
    "#variables=extract_variables_from_formulas(formulas)\n",
    "#save_formulas_to_file(\"random_3cnf_large_test_6.txt\",variables,formulas)"
   ]
  }
 ],
 "metadata": {
  "kernelspec": {
   "display_name": "Python 3 (ipykernel)",
   "language": "python",
   "name": "python3"
  },
  "language_info": {
   "codemirror_mode": {
    "name": "ipython",
    "version": 3
   },
   "file_extension": ".py",
   "mimetype": "text/x-python",
   "name": "python",
   "nbconvert_exporter": "python",
   "pygments_lexer": "ipython3",
   "version": "3.9.5"
  }
 },
 "nbformat": 4,
 "nbformat_minor": 5
}
