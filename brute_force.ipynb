{
 "cells": [
  {
   "cell_type": "code",
   "execution_count": 7,
   "id": "9a6daa7e",
   "metadata": {},
   "outputs": [],
   "source": [
    "from itertools import product\n",
    "import random\n",
    "import numpy as np"
   ]
  },
  {
   "cell_type": "code",
   "execution_count": 22,
   "id": "6e18d025",
   "metadata": {},
   "outputs": [],
   "source": [
    "def is_satisfied(formula, valuation):\n",
    "    for clause in formula:\n",
    "        clause_satisfied = False\n",
    "        for literal in clause:\n",
    "            variable = abs(literal)\n",
    "            is_negated = False\n",
    "            if literal < 0:\n",
    "                is_negated = True\n",
    "            if is_negated:\n",
    "                value = not valuation[variable]\n",
    "            else:\n",
    "                value = valuation[variable]\n",
    "            if value:\n",
    "                clause_satisfied=True\n",
    "                break\n",
    "        \n",
    "        if not clause_satisfied:\n",
    "            return False\n",
    "    return True"
   ]
  },
  {
   "cell_type": "code",
   "execution_count": 23,
   "id": "fbef64b2",
   "metadata": {},
   "outputs": [],
   "source": [
    "def count_satisfied_formulas(formulas, valuation):\n",
    "    count = 0\n",
    "    for formula in formulas:\n",
    "        if is_satisfied(formula, valuation):\n",
    "            count += 1\n",
    "    return count"
   ]
  },
  {
   "cell_type": "code",
   "execution_count": 24,
   "id": "b0966d6d",
   "metadata": {},
   "outputs": [],
   "source": [
    "def brute_force(formulas,variables):\n",
    "    min_satisfied=len(formulas)\n",
    "    min_valuation={}\n",
    "    valuation={}\n",
    "    \n",
    "    all_valuations=product([True,False],repeat=len(variables))\n",
    "    \n",
    "    for current_valuation in all_valuations:\n",
    "        valuation={var:truth for var,truth in zip(variables,current_valuation)}\n",
    "        number_satisfied=count_satisfied_formulas(formulas,valuation)\n",
    "        if number_satisfied<min_satisfied:\n",
    "            min_satisfied=number_satisfied\n",
    "            min_valuation=valuation\n",
    "    \n",
    "    return min_satisfied,min_valuation\n",
    "        "
   ]
  }
 ],
 "metadata": {
  "kernelspec": {
   "display_name": "Python 3 (ipykernel)",
   "language": "python",
   "name": "python3"
  },
  "language_info": {
   "codemirror_mode": {
    "name": "ipython",
    "version": 3
   },
   "file_extension": ".py",
   "mimetype": "text/x-python",
   "name": "python",
   "nbconvert_exporter": "python",
   "pygments_lexer": "ipython3",
   "version": "3.9.5"
  }
 },
 "nbformat": 4,
 "nbformat_minor": 5
}
