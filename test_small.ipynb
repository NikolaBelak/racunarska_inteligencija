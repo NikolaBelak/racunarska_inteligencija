{
 "cells": [
  {
   "cell_type": "code",
   "execution_count": 31,
   "id": "b19f39d3",
   "metadata": {},
   "outputs": [],
   "source": [
    "%run genetic_algorithm.ipynb\n",
    "%run greedy_search.ipynb\n",
    "%run brute_force.ipynb\n",
    "%run variable_neighborhood_search.ipynb"
   ]
  },
  {
   "cell_type": "code",
   "execution_count": 26,
   "id": "d9ee7fcf",
   "metadata": {},
   "outputs": [],
   "source": [
    "import random\n",
    "import numpy as np\n",
    "import time"
   ]
  },
  {
   "cell_type": "code",
   "execution_count": 27,
   "id": "b32099cd",
   "metadata": {},
   "outputs": [],
   "source": [
    "def load_formulas_from_file(filename):\n",
    "    variables=[]\n",
    "    formulas = []\n",
    "    with open(filename, \"r\") as file:\n",
    "        lines=file.readlines()\n",
    "        variables=list(map(int,lines[0].split(\":\")[1].strip().split(\",\")))\n",
    "        current_formula = []\n",
    "        for line in lines[2:]:\n",
    "            line = line.strip()\n",
    "            if not line:\n",
    "                if current_formula:\n",
    "                    formulas.append(current_formula)\n",
    "                current_formula = []\n",
    "            else:\n",
    "                clause = line.split()\n",
    "                current_formula.append([int(literal) for literal in clause])\n",
    "        if current_formula:\n",
    "            formulas.append(current_formula)\n",
    "    return variables,formulas"
   ]
  },
  {
   "cell_type": "code",
   "execution_count": 39,
   "id": "acdc5e6c",
   "metadata": {},
   "outputs": [],
   "source": [
    "def test_bf(formulas,variables):\n",
    "    best_value,best_solution=brute_force(formulas,variables)\n",
    "    print(\"Brute force results: \")\n",
    "    print(\"Minimum number of satisfiable formulas: \",best_value)\n",
    "    print(\"Valuation for minimum number of satisfiable formulas: \",best_solution)"
   ]
  },
  {
   "cell_type": "code",
   "execution_count": 40,
   "id": "78e7d6d5",
   "metadata": {},
   "outputs": [],
   "source": [
    "def test_gs(formulas,variables):\n",
    "    best_value,best_solution=greedy_search(formulas,variables,10000)\n",
    "    print(\"Greedy search results: \")\n",
    "    print(\"Minimum number of satisfiable formulas: \",best_value)\n",
    "    print(\"Valuation for minimum number of satisfiable formulas: \",best_solution)"
   ]
  },
  {
   "cell_type": "code",
   "execution_count": 41,
   "id": "c4c2017a",
   "metadata": {},
   "outputs": [],
   "source": [
    "def test_vns(formulas,variables):\n",
    "    best_value,best_solution=vns(formulas,variables,50,5,0.5)\n",
    "    print(\"Variable Neighborhood Search results: \")\n",
    "    print(\"Minimum number of satisfiable formulas: \",best_value)\n",
    "    print(\"Valuation for minimum number of satisfiable formulas: \",best_solution)"
   ]
  },
  {
   "cell_type": "code",
   "execution_count": 45,
   "id": "08acf631",
   "metadata": {},
   "outputs": [],
   "source": [
    "def test_ga(formulas,variables):\n",
    "    best_value,best_solution=ga(100,10,5,0.05,True,19)\n",
    "    print(\"Genetic algorithm results: \")\n",
    "    print(\"Minimum number of satisfiable formulas: \",best_value)\n",
    "    print(\"Valuation for minimum number of satisfiable formulas: \",best_solution)"
   ]
  },
  {
   "cell_type": "code",
   "execution_count": 46,
   "id": "e63af329",
   "metadata": {},
   "outputs": [],
   "source": [
    "def test_all(formulas,variables):\n",
    "    print(\"Broj formula:\",len(formulas))\n",
    "    print(\"\")\n",
    "    test_bf(formulas,variables)\n",
    "    print(\"\")\n",
    "    test_gs(formulas,variables)\n",
    "    print(\"\")\n",
    "    test_vns(formulas,variables)\n",
    "    print(\"\")\n",
    "    test_ga(formulas,variables)"
   ]
  },
  {
   "cell_type": "code",
   "execution_count": 68,
   "id": "2619d625",
   "metadata": {},
   "outputs": [],
   "source": [
    "variables,formulas=load_formulas_from_file(\"./datasets/random_3cnf_small_test_1.txt\")\n"
   ]
  },
  {
   "cell_type": "code",
   "execution_count": 69,
   "id": "bbec5367",
   "metadata": {},
   "outputs": [
    {
     "name": "stdout",
     "output_type": "stream",
     "text": [
      "Broj formula: 27\n",
      "\n",
      "\n",
      "Brute force results: \n",
      "Minimum number of satisfiable formulas:  19\n",
      "Valuation for minimum number of satisfiable formulas:  {1: True, 2: True, 3: True, 4: True, 5: False, 6: False, 7: False, 8: False}\n",
      "\n",
      "Brute force results: \n",
      "Minimum number of satisfiable formulas:  19\n",
      "Valuation for minimum number of satisfiable formulas:  {1: True, 2: False, 3: True, 4: True, 5: False, 6: False, 7: False, 8: False}\n",
      "\n",
      "Variable Neighborhood Search results: \n",
      "Minimum number of satisfiable formulas:  19\n",
      "Valuation for minimum number of satisfiable formulas:  {1: True, 2: False, 3: False, 4: False, 5: False, 6: False, 7: False, 8: False}\n",
      "\n",
      "Genetic algorithm results: \n",
      "Minimum number of satisfiable formulas:  19\n",
      "Valuation for minimum number of satisfiable formulas:  {1: False, 2: False, 3: True, 4: False, 5: False, 6: False, 7: True, 8: False}\n"
     ]
    }
   ],
   "source": [
    "test_all(formulas,variables)"
   ]
  },
  {
   "cell_type": "code",
   "execution_count": 66,
   "id": "48d8b720",
   "metadata": {},
   "outputs": [],
   "source": [
    "variables,formulas=load_formulas_from_file(\"./datasets/random_3cnf_small_test_2.txt\")\n"
   ]
  },
  {
   "cell_type": "code",
   "execution_count": 67,
   "id": "56a294ad",
   "metadata": {},
   "outputs": [
    {
     "name": "stdout",
     "output_type": "stream",
     "text": [
      "Broj formula: 22\n",
      "\n",
      "\n",
      "Brute force results: \n",
      "Minimum number of satisfiable formulas:  12\n",
      "Valuation for minimum number of satisfiable formulas:  {1: False, 2: True, 3: False, 4: False, 5: False, 6: True, 7: False, 8: True}\n",
      "\n",
      "Brute force results: \n",
      "Minimum number of satisfiable formulas:  12\n",
      "Valuation for minimum number of satisfiable formulas:  {1: False, 2: True, 3: False, 4: False, 5: False, 6: True, 7: False, 8: True}\n",
      "\n",
      "Variable Neighborhood Search results: \n",
      "Minimum number of satisfiable formulas:  12\n",
      "Valuation for minimum number of satisfiable formulas:  {1: False, 2: True, 3: False, 4: False, 5: False, 6: False, 7: False, 8: True}\n",
      "\n",
      "Genetic algorithm results: \n",
      "Minimum number of satisfiable formulas:  12\n",
      "Valuation for minimum number of satisfiable formulas:  {1: False, 2: True, 3: False, 4: False, 5: False, 6: False, 7: False, 8: True}\n"
     ]
    }
   ],
   "source": [
    "test_all(formulas,variables)"
   ]
  },
  {
   "cell_type": "code",
   "execution_count": null,
   "id": "2d5e26f2",
   "metadata": {},
   "outputs": [],
   "source": []
  }
 ],
 "metadata": {
  "kernelspec": {
   "display_name": "Python 3 (ipykernel)",
   "language": "python",
   "name": "python3"
  },
  "language_info": {
   "codemirror_mode": {
    "name": "ipython",
    "version": 3
   },
   "file_extension": ".py",
   "mimetype": "text/x-python",
   "name": "python",
   "nbconvert_exporter": "python",
   "pygments_lexer": "ipython3",
   "version": "3.9.5"
  }
 },
 "nbformat": 4,
 "nbformat_minor": 5
}
