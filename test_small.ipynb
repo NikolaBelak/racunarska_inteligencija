{
 "cells": [
  {
   "cell_type": "code",
   "execution_count": 2,
   "id": "b19f39d3",
   "metadata": {},
   "outputs": [],
   "source": [
    "%run genetic_algorithm.ipynb\n",
    "%run greedy_search.ipynb\n",
    "%run brute_force.ipynb\n",
    "%run variable_neighborhood_search.ipynb"
   ]
  },
  {
   "cell_type": "code",
   "execution_count": 3,
   "id": "d9ee7fcf",
   "metadata": {},
   "outputs": [],
   "source": [
    "import random\n",
    "import numpy as np\n",
    "import time"
   ]
  },
  {
   "cell_type": "code",
   "execution_count": 4,
   "id": "b32099cd",
   "metadata": {},
   "outputs": [],
   "source": [
    "def load_formulas_from_file(filename):\n",
    "    variables=[]\n",
    "    formulas = []\n",
    "    with open(filename, \"r\") as file:\n",
    "        lines=file.readlines()\n",
    "        variables=list(map(int,lines[0].split(\":\")[1].strip().split(\",\")))\n",
    "        current_formula = []\n",
    "        for line in lines[2:]:\n",
    "            line = line.strip()\n",
    "            if not line:\n",
    "                if current_formula:\n",
    "                    formulas.append(current_formula)\n",
    "                current_formula = []\n",
    "            else:\n",
    "                clause = line.split()\n",
    "                current_formula.append([int(literal) for literal in clause])\n",
    "        if current_formula:\n",
    "            formulas.append(current_formula)\n",
    "    return variables,formulas"
   ]
  },
  {
   "cell_type": "code",
   "execution_count": 5,
   "id": "ce94d901",
   "metadata": {},
   "outputs": [],
   "source": [
    "variables,formulas=load_formulas_from_file(\"./datasets/random_3cnf_small_test_1.txt\")\n"
   ]
  },
  {
   "cell_type": "code",
   "execution_count": 9,
   "id": "917f65b2",
   "metadata": {},
   "outputs": [
    {
     "name": "stdout",
     "output_type": "stream",
     "text": [
      "Broj formula: 27\n",
      "\n",
      "Brute force results: \n",
      "Minimum number of satisfiable formulas:  19\n",
      "Valuation for minimum number of satisfiable formulas:  {1: True, 2: True, 3: True, 4: True, 5: False, 6: False, 7: False, 8: False}\n"
     ]
    }
   ],
   "source": [
    "best_value,best_solution=brute_force(formulas,variables)\n",
    "print(\"Broj formula:\",len(formulas))\n",
    "print(\"\")\n",
    "print(\"Brute force results: \")\n",
    "print(\"Minimum number of satisfiable formulas: \",best_value)\n",
    "print(\"Valuation for minimum number of satisfiable formulas: \",best_solution)"
   ]
  },
  {
   "cell_type": "code",
   "execution_count": 11,
   "id": "b08bc93f",
   "metadata": {},
   "outputs": [
    {
     "name": "stdout",
     "output_type": "stream",
     "text": [
      "Broj formula: 27\n",
      "\n",
      "Greedy search results: \n",
      "Minimum number of satisfiable formulas:  19\n",
      "Valuation for minimum number of satisfiable formulas:  {1: True, 2: False, 3: False, 4: False, 5: False, 6: False, 7: False, 8: False}\n"
     ]
    }
   ],
   "source": [
    "best_value,best_solution=greedy_search(formulas,variables,10000)\n",
    "print(\"Broj formula:\",len(formulas))\n",
    "print(\"\")\n",
    "print(\"Greedy search results: \")\n",
    "print(\"Minimum number of satisfiable formulas: \",best_value)\n",
    "print(\"Valuation for minimum number of satisfiable formulas: \",best_solution)"
   ]
  },
  {
   "cell_type": "code",
   "execution_count": 12,
   "id": "eec74555",
   "metadata": {},
   "outputs": [
    {
     "name": "stdout",
     "output_type": "stream",
     "text": [
      "Broj formula: 27\n",
      "\n",
      "Variable Neighborhood Search results: \n",
      "Minimum number of satisfiable formulas:  19\n",
      "Valuation for minimum number of satisfiable formulas:  {1: True, 2: False, 3: True, 4: False, 5: False, 6: False, 7: False, 8: False}\n"
     ]
    }
   ],
   "source": [
    "best_value,best_solution=vns(formulas,variables,50,5,0.5)\n",
    "print(\"Broj formula:\",len(formulas))\n",
    "print(\"\")\n",
    "print(\"Variable Neighborhood Search results: \")\n",
    "print(\"Minimum number of satisfiable formulas: \",best_value)\n",
    "print(\"Valuation for minimum number of satisfiable formulas: \",best_solution)"
   ]
  },
  {
   "cell_type": "code",
   "execution_count": 13,
   "id": "ba283375",
   "metadata": {},
   "outputs": [
    {
     "name": "stdout",
     "output_type": "stream",
     "text": [
      "Broj formula: 27\n",
      "\n",
      "Genetic algorithm results: \n",
      "Minimum number of satisfiable formulas:  19\n",
      "Valuation for minimum number of satisfiable formulas:  {1: True, 2: False, 3: False, 4: False, 5: False, 6: False, 7: False, 8: True}\n"
     ]
    }
   ],
   "source": [
    "best_value,best_solution=ga(100,10,5,0.05,True,19)\n",
    "print(\"Broj formula:\",len(formulas))\n",
    "print(\"\")\n",
    "print(\"Genetic algorithm results: \")\n",
    "print(\"Minimum number of satisfiable formulas: \",best_value)\n",
    "print(\"Valuation for minimum number of satisfiable formulas: \",best_solution)"
   ]
  },
  {
   "cell_type": "code",
   "execution_count": null,
   "id": "bbec5367",
   "metadata": {},
   "outputs": [],
   "source": []
  }
 ],
 "metadata": {
  "kernelspec": {
   "display_name": "Python 3 (ipykernel)",
   "language": "python",
   "name": "python3"
  },
  "language_info": {
   "codemirror_mode": {
    "name": "ipython",
    "version": 3
   },
   "file_extension": ".py",
   "mimetype": "text/x-python",
   "name": "python",
   "nbconvert_exporter": "python",
   "pygments_lexer": "ipython3",
   "version": "3.9.5"
  }
 },
 "nbformat": 4,
 "nbformat_minor": 5
}
