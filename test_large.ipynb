{
 "cells": [
  {
   "cell_type": "code",
   "execution_count": 2,
   "id": "4ed3a0f7",
   "metadata": {},
   "outputs": [],
   "source": [
    "%run genetic_algorithm.ipynb\n",
    "%run greedy_search.ipynb\n",
    "%run brute_force.ipynb\n",
    "%run variable_neighborhood_search.ipynb\n"
   ]
  },
  {
   "cell_type": "code",
   "execution_count": 3,
   "id": "05c460d4",
   "metadata": {},
   "outputs": [],
   "source": [
    "import random\n",
    "import numpy as np\n",
    "import time"
   ]
  },
  {
   "cell_type": "code",
   "execution_count": 4,
   "id": "6b43a64d",
   "metadata": {},
   "outputs": [],
   "source": [
    "def load_formulas_from_file(filename):\n",
    "    variables=[]\n",
    "    formulas = []\n",
    "    with open(filename, \"r\") as file:\n",
    "        lines=file.readlines()\n",
    "        variables=list(map(int,lines[0].split(\":\")[1].strip().split(\",\")))\n",
    "        current_formula = []\n",
    "        for line in lines[2:]:\n",
    "            line = line.strip()\n",
    "            if not line:\n",
    "                if current_formula:\n",
    "                    formulas.append(current_formula)\n",
    "                current_formula = []\n",
    "            else:\n",
    "                clause = line.split()\n",
    "                current_formula.append([int(literal) for literal in clause])\n",
    "        if current_formula:\n",
    "            formulas.append(current_formula)\n",
    "    return variables,formulas"
   ]
  },
  {
   "cell_type": "code",
   "execution_count": 5,
   "id": "ac563c9c",
   "metadata": {},
   "outputs": [],
   "source": [
    "def test_vns(formulas,variables):\n",
    "    avg_value=0\n",
    "    best_value=float('inf')\n",
    "    start=time.time()\n",
    "    for i in range(5):\n",
    "        curr_value,best_solution=vns(formulas,variables,50,5,0.5)\n",
    "        avg_value+=curr_value\n",
    "        if curr_value<best_value:\n",
    "            best_value=curr_value\n",
    "    end=time.time()\n",
    "    print(\"Variable Neighborhood Search results: \")\n",
    "    print(\"Best value:\",best_value)\n",
    "    print(\"Avg value:\",avg_value/5)\n",
    "    print(\"Total time: %ssec\" %round(end-start,3))\n",
    "    print(\"Avg time: %ssec\" %round((end-start)/5,3))\n",
    "    print(\"Best solution:\",best_solution)"
   ]
  },
  {
   "cell_type": "code",
   "execution_count": 6,
   "id": "3a72df39",
   "metadata": {},
   "outputs": [],
   "source": [
    "def test_ga(formulas,variables):\n",
    "    avg_value=0\n",
    "    best_value=float('inf')\n",
    "    start=time.time()\n",
    "    for i in range(5):\n",
    "        curr_value,best_solution=ga(100,10,5,0.05,True,19)\n",
    "        avg_value+=curr_value\n",
    "        if curr_value<best_value:\n",
    "            best_value=curr_value\n",
    "    end=time.time()\n",
    "    print(\"Genetic algorithm results: \")\n",
    "    print(\"Best value:\",best_value)\n",
    "    print(\"Avg value:\",avg_value/5)\n",
    "    print(\"Total time: %ssec\" %round(end-start,3))\n",
    "    print(\"Avg time: %ssec\" %round((end-start)/5,3))\n",
    "    print(\"Best solution:\",best_solution)"
   ]
  },
  {
   "cell_type": "code",
   "execution_count": 7,
   "id": "65c1f8ca",
   "metadata": {},
   "outputs": [],
   "source": [
    "def test_gs(formulas,variables):\n",
    "    avg_value=0\n",
    "    best_value=float('inf')\n",
    "    start=time.time()\n",
    "    for i in range(5):\n",
    "        curr_value,best_solution=greedy_search(formulas,variables,10000)\n",
    "        avg_value+=curr_value\n",
    "        if curr_value<best_value:\n",
    "            best_value=curr_value\n",
    "    end=time.time()\n",
    "    print(\"Greedy search results: \")\n",
    "    print(\"Best value:\",best_value)\n",
    "    print(\"Avg value:\",avg_value/5)\n",
    "    print(\"Total time: %ssec\" %round(end-start,3))\n",
    "    print(\"Avg time: %ssec\" %round((end-start)/5,3))\n",
    "    print(\"Best solution:\",best_solution)"
   ]
  },
  {
   "cell_type": "code",
   "execution_count": 8,
   "id": "8820f1e5",
   "metadata": {},
   "outputs": [],
   "source": [
    "def test_all(formulas,variables):\n",
    "    print(\"Broj formula:\",len(formulas))\n",
    "    print(\"\")\n",
    "    test_vns(formulas,variables)\n",
    "    print(\"\")\n",
    "    test_ga(formulas,variables)\n",
    "    print(\"\")\n",
    "    test_gs(formulas,variables)\n",
    "    "
   ]
  },
  {
   "cell_type": "code",
   "execution_count": 11,
   "id": "976f7e5a",
   "metadata": {},
   "outputs": [],
   "source": [
    "variables,formulas=load_formulas_from_file(\"./datasets/random_3cnf_large_test_3.txt\")"
   ]
  },
  {
   "cell_type": "code",
   "execution_count": 12,
   "id": "289bf312",
   "metadata": {},
   "outputs": [
    {
     "name": "stdout",
     "output_type": "stream",
     "text": [
      "Broj formula: 121\n",
      "\n",
      "Variable Neighborhood Search results: \n",
      "Best value: 45\n",
      "Avg value: 45.0\n",
      "Total time: 2.794sec\n",
      "Avg time: 0.559sec\n",
      "Best solution: {1: False, 2: True, 3: True, 4: False, 5: True, 6: False, 7: True, 8: True, 9: False, 10: False, 11: False, 12: True, 13: False, 14: True, 15: False, 16: False, 17: False, 18: True}\n",
      "\n",
      "Genetic algorithm results: \n",
      "Best value: 45\n",
      "Avg value: 46.4\n",
      "Total time: 0.72sec\n",
      "Avg time: 0.144sec\n",
      "Best solution: {1: False, 2: True, 3: True, 4: False, 5: True, 6: False, 7: True, 8: True, 9: False, 10: False, 11: False, 12: True, 13: False, 14: True, 15: False, 16: False, 17: False, 18: True}\n",
      "\n",
      "Greedy search results: \n",
      "Best value: 47\n",
      "Avg value: 53.0\n",
      "Total time: 0.024sec\n",
      "Avg time: 0.005sec\n",
      "Best solution: {1: False, 2: True, 3: True, 4: True, 5: True, 6: False, 7: True, 8: False, 9: False, 10: False, 11: False, 12: False, 13: False, 14: True, 15: False, 16: False, 17: False, 18: True}\n"
     ]
    }
   ],
   "source": [
    "test_all(formulas,variables)"
   ]
  },
  {
   "cell_type": "code",
   "execution_count": 13,
   "id": "76adcc4a",
   "metadata": {},
   "outputs": [],
   "source": [
    "variables,formulas=load_formulas_from_file(\"./datasets/random_3cnf_large_test_4.txt\")"
   ]
  },
  {
   "cell_type": "code",
   "execution_count": 14,
   "id": "e4f0a459",
   "metadata": {},
   "outputs": [
    {
     "name": "stdout",
     "output_type": "stream",
     "text": [
      "Broj formula: 206\n",
      "\n",
      "Variable Neighborhood Search results: \n",
      "Best value: 65\n",
      "Avg value: 66.0\n",
      "Total time: 9.387sec\n",
      "Avg time: 1.877sec\n",
      "Best solution: {1: True, 2: False, 3: True, 4: True, 5: True, 6: True, 7: True, 8: True, 9: True, 10: True, 11: False, 12: False, 13: True, 14: False, 15: False, 16: True, 17: False, 18: True, 19: False, 20: False, 21: True, 22: False, 23: False, 24: True, 25: True, 26: False, 27: True, 28: True, 29: False, 30: True, 31: False, 32: False, 33: False}\n",
      "\n",
      "Genetic algorithm results: \n",
      "Best value: 65\n",
      "Avg value: 68.4\n",
      "Total time: 1.35sec\n",
      "Avg time: 0.27sec\n",
      "Best solution: {1: False, 2: False, 3: True, 4: True, 5: False, 6: True, 7: False, 8: True, 9: True, 10: True, 11: False, 12: True, 13: False, 14: False, 15: True, 16: False, 17: True, 18: True, 19: True, 20: False, 21: False, 22: True, 23: True, 24: True, 25: True, 26: False, 27: True, 28: False, 29: False, 30: True, 31: True, 32: False, 33: False}\n",
      "\n",
      "Greedy search results: \n",
      "Best value: 74\n",
      "Avg value: 78.8\n",
      "Total time: 0.083sec\n",
      "Avg time: 0.017sec\n",
      "Best solution: {1: True, 2: False, 3: True, 4: True, 5: True, 6: False, 7: True, 8: True, 9: True, 10: True, 11: True, 12: False, 13: True, 14: True, 15: True, 16: True, 17: True, 18: False, 19: False, 20: True, 21: False, 22: True, 23: True, 24: False, 25: False, 26: True, 27: False, 28: True, 29: True, 30: True, 31: True, 32: False, 33: True}\n"
     ]
    }
   ],
   "source": [
    "test_all(formulas,variables)"
   ]
  },
  {
   "cell_type": "code",
   "execution_count": 15,
   "id": "51a0b07a",
   "metadata": {},
   "outputs": [],
   "source": [
    "variables,formulas=load_formulas_from_file(\"./datasets/random_3cnf_large_test_5.txt\")"
   ]
  },
  {
   "cell_type": "code",
   "execution_count": 16,
   "id": "31282ca1",
   "metadata": {},
   "outputs": [
    {
     "name": "stdout",
     "output_type": "stream",
     "text": [
      "Broj formula: 352\n",
      "\n",
      "Variable Neighborhood Search results: \n",
      "Best value: 125\n",
      "Avg value: 126.8\n",
      "Total time: 22.069sec\n",
      "Avg time: 4.414sec\n",
      "Best solution: {1: True, 2: True, 3: True, 4: True, 5: False, 6: False, 7: True, 8: True, 9: True, 10: False, 11: False, 12: False, 13: False, 14: True, 15: True, 16: True, 17: False, 18: True, 19: True, 20: False, 21: True, 22: False, 23: True, 24: True, 25: True, 26: False, 27: False, 28: False, 29: True, 30: False, 31: True, 32: False, 33: True, 34: True, 35: False, 36: True, 37: True, 38: True, 39: False, 40: True, 41: False, 42: False, 43: False, 44: True, 45: True, 46: True, 47: True, 48: False, 49: False}\n",
      "\n",
      "Genetic algorithm results: \n",
      "Best value: 138\n",
      "Avg value: 142.4\n",
      "Total time: 2.426sec\n",
      "Avg time: 0.485sec\n",
      "Best solution: {1: True, 2: True, 3: True, 4: False, 5: False, 6: False, 7: True, 8: True, 9: True, 10: False, 11: True, 12: False, 13: True, 14: False, 15: True, 16: True, 17: False, 18: False, 19: False, 20: True, 21: True, 22: True, 23: False, 24: True, 25: False, 26: True, 27: True, 28: False, 29: True, 30: False, 31: True, 32: True, 33: True, 34: True, 35: True, 36: True, 37: False, 38: True, 39: False, 40: False, 41: False, 42: False, 43: True, 44: False, 45: False, 46: True, 47: False, 48: False, 49: True}\n",
      "\n",
      "Greedy search results: \n",
      "Best value: 139\n",
      "Avg value: 146.6\n",
      "Total time: 0.194sec\n",
      "Avg time: 0.039sec\n",
      "Best solution: {1: True, 2: True, 3: True, 4: False, 5: True, 6: False, 7: True, 8: False, 9: False, 10: True, 11: True, 12: False, 13: True, 14: True, 15: True, 16: False, 17: True, 18: True, 19: False, 20: True, 21: True, 22: False, 23: False, 24: False, 25: False, 26: True, 27: True, 28: False, 29: False, 30: True, 31: False, 32: True, 33: True, 34: False, 35: False, 36: False, 37: True, 38: False, 39: False, 40: False, 41: True, 42: False, 43: False, 44: True, 45: False, 46: False, 47: True, 48: False, 49: True}\n"
     ]
    }
   ],
   "source": [
    "test_all(formulas,variables)"
   ]
  },
  {
   "cell_type": "code",
   "execution_count": 17,
   "id": "6d5855a4",
   "metadata": {},
   "outputs": [],
   "source": [
    "variables,formulas=load_formulas_from_file(\"./datasets/random_3cnf_large_test_6.txt\")"
   ]
  },
  {
   "cell_type": "code",
   "execution_count": 18,
   "id": "71454c33",
   "metadata": {},
   "outputs": [
    {
     "name": "stdout",
     "output_type": "stream",
     "text": [
      "Broj formula: 211\n",
      "\n",
      "Variable Neighborhood Search results: \n",
      "Best value: 72\n",
      "Avg value: 73.4\n",
      "Total time: 10.395sec\n",
      "Avg time: 2.079sec\n",
      "Best solution: {1: True, 2: True, 3: False, 4: False, 5: True, 6: True, 7: False, 8: False, 9: False, 10: True, 11: False, 12: True, 13: True, 14: False, 15: True, 16: False, 17: False, 18: False, 19: False, 20: True, 21: True, 22: False, 23: True, 24: False, 25: True, 26: True, 27: False, 28: False, 29: True, 30: False, 31: False, 32: False, 33: True, 34: False, 35: False, 36: True, 37: True, 38: False, 39: True, 40: True}\n",
      "\n",
      "Genetic algorithm results: \n",
      "Best value: 77\n",
      "Avg value: 82.0\n",
      "Total time: 1.386sec\n",
      "Avg time: 0.277sec\n",
      "Best solution: {1: True, 2: False, 3: False, 4: False, 5: False, 6: True, 7: True, 8: False, 9: False, 10: True, 11: True, 12: True, 13: True, 14: True, 15: True, 16: False, 17: True, 18: False, 19: False, 20: True, 21: True, 22: True, 23: True, 24: True, 25: True, 26: False, 27: False, 28: False, 29: True, 30: True, 31: False, 32: False, 33: True, 34: False, 35: False, 36: True, 37: True, 38: True, 39: True, 40: True}\n",
      "\n",
      "Greedy search results: \n",
      "Best value: 82\n",
      "Avg value: 87.2\n",
      "Total time: 0.118sec\n",
      "Avg time: 0.024sec\n",
      "Best solution: {1: True, 2: False, 3: False, 4: True, 5: False, 6: True, 7: True, 8: False, 9: False, 10: False, 11: False, 12: False, 13: True, 14: True, 15: False, 16: True, 17: True, 18: False, 19: False, 20: False, 21: True, 22: True, 23: True, 24: True, 25: False, 26: False, 27: False, 28: False, 29: True, 30: False, 31: False, 32: False, 33: True, 34: False, 35: False, 36: False, 37: False, 38: True, 39: False, 40: False}\n"
     ]
    }
   ],
   "source": [
    "test_all(formulas,variables)"
   ]
  },
  {
   "cell_type": "code",
   "execution_count": null,
   "id": "316d192f",
   "metadata": {},
   "outputs": [],
   "source": []
  }
 ],
 "metadata": {
  "kernelspec": {
   "display_name": "Python 3 (ipykernel)",
   "language": "python",
   "name": "python3"
  },
  "language_info": {
   "codemirror_mode": {
    "name": "ipython",
    "version": 3
   },
   "file_extension": ".py",
   "mimetype": "text/x-python",
   "name": "python",
   "nbconvert_exporter": "python",
   "pygments_lexer": "ipython3",
   "version": "3.9.5"
  }
 },
 "nbformat": 4,
 "nbformat_minor": 5
}
