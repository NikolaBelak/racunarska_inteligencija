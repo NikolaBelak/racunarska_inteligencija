{
 "cells": [
  {
   "cell_type": "code",
   "execution_count": 22,
   "id": "26794238",
   "metadata": {},
   "outputs": [],
   "source": [
    "import random\n",
    "import numpy as np\n",
    "from matplotlib import pyplot as plt"
   ]
  },
  {
   "cell_type": "code",
   "execution_count": 23,
   "id": "931d0407",
   "metadata": {},
   "outputs": [],
   "source": [
    "def is_satisfied(formula, valuation):\n",
    "    for clause in formula:\n",
    "        clause_satisfied = False\n",
    "        for literal in clause:\n",
    "            variable = abs(literal)\n",
    "            is_negated = False\n",
    "            if literal < 0:\n",
    "                is_negated = True\n",
    "            if is_negated:\n",
    "                value = not valuation[variable]\n",
    "            else:\n",
    "                value = valuation[variable]\n",
    "            if value:\n",
    "                clause_satisfied=True\n",
    "                break\n",
    "        \n",
    "        if not clause_satisfied:\n",
    "            return False\n",
    "    return True"
   ]
  },
  {
   "cell_type": "code",
   "execution_count": 24,
   "id": "a4697b81",
   "metadata": {},
   "outputs": [],
   "source": [
    "def count_satisfied_formulas(formulas, valuation):\n",
    "    count = 0\n",
    "    for formula in formulas:\n",
    "        if is_satisfied(formula, valuation):\n",
    "            count += 1\n",
    "    return count"
   ]
  },
  {
   "cell_type": "code",
   "execution_count": 25,
   "id": "998694da",
   "metadata": {},
   "outputs": [],
   "source": [
    "def generate_random_valuation(variables):\n",
    "    return {var:random.choice([True,False]) for var in variables}"
   ]
  },
  {
   "cell_type": "code",
   "execution_count": 26,
   "id": "485e290d",
   "metadata": {},
   "outputs": [],
   "source": [
    "class Individual:\n",
    "    def __init__(self,variables,formulas):\n",
    "        self.code=generate_random_valuation(variables)\n",
    "        self.fitness=self.calc_fitness(formulas)\n",
    "    \n",
    "    def calc_fitness(self,formulas):\n",
    "        return -count_satisfied_formulas(formulas,self.code)\n",
    "    \n",
    "    def __lt__(self, other):\n",
    "        return self.fitness < other.fitness"
   ]
  },
  {
   "cell_type": "code",
   "execution_count": 27,
   "id": "e91b7b09",
   "metadata": {},
   "outputs": [],
   "source": [
    "def selection(population, tournament_size, forbidden):\n",
    "    allowed = list(set(range(len(population))).difference({forbidden}))\n",
    "    chosen = random.sample(allowed, tournament_size)\n",
    "    max_fitness = float('-inf')\n",
    "    best_idx = -1\n",
    "    for i in chosen:\n",
    "        if population[i].fitness > max_fitness:\n",
    "            max_fitness = population[i].fitness\n",
    "            best_idx = i\n",
    "    return best_idx"
   ]
  },
  {
   "cell_type": "code",
   "execution_count": 28,
   "id": "abc81c67",
   "metadata": {},
   "outputs": [],
   "source": [
    "def crossover(parent1, parent2, child1, child2):\n",
    "    pos = random.randrange(1, len(parent1.code)-1)\n",
    "    \n",
    "    child1.code={var:parent1.code[var] for var in parent1.code}\n",
    "    child2.code={var:parent2.code[var] for var in parent2.code}\n",
    "    \n",
    "    for i,var in enumerate(parent1.code):\n",
    "        if i>=pos:\n",
    "            child1.code[var]=parent2.code[var]\n",
    "            child2.code[var]=parent1.code[var]"
   ]
  },
  {
   "cell_type": "code",
   "execution_count": 29,
   "id": "43d1a490",
   "metadata": {},
   "outputs": [],
   "source": [
    "def mutation(child, mutation_prob):\n",
    "    for var in child.code:\n",
    "        if random.random()<mutation_prob:\n",
    "            child.code[var]=not child.code[var]"
   ]
  },
  {
   "cell_type": "code",
   "execution_count": 30,
   "id": "5a42cc36",
   "metadata": {},
   "outputs": [],
   "source": [
    "def ga(pop_size, num_iters, tournament_size, mutation_prob, use_elitism, elitism_size):\n",
    "    if use_elitism and (pop_size - elitism_size) % 2 == 1:\n",
    "        elitism_size += 1\n",
    "\n",
    "    population = [Individual(variables,formulas) for _ in range(pop_size)]\n",
    "    new_population = [Individual(variables,formulas) for _ in range(pop_size)]\n",
    "    for i in range(num_iters):\n",
    "        if use_elitism:\n",
    "            population.sort(key=lambda x: x.fitness, reverse=True)\n",
    "            \n",
    "            new_population[:elitism_size] = population[:elitism_size]\n",
    "            \n",
    "        for j in range(elitism_size, pop_size, 2):\n",
    "            parent1_idx = selection(population, tournament_size, None)\n",
    "            parent2_idx = selection(population, tournament_size, parent1_idx)\n",
    "            \n",
    "            crossover(population[parent1_idx],\n",
    "                      population[parent2_idx],\n",
    "                      new_population[j],\n",
    "                      new_population[j+1])\n",
    "            \n",
    "            mutation(new_population[j], mutation_prob)\n",
    "            mutation(new_population[j+1], mutation_prob)\n",
    "            \n",
    "            new_population[j].fitness = new_population[j].calc_fitness( formulas)\n",
    "            new_population[j+1].fitness = new_population[j+1].calc_fitness( formulas)\n",
    "\n",
    "        population[:] = new_population[:]\n",
    "        \n",
    "    best_individual = max(population, key=lambda x: x.fitness)\n",
    "    #print(\"Minimum number of satisfiable formulas:\", -best_individual.fitness)\n",
    "    #print(\"Valuation for minimum number of satisfiable formulas:\",best_individual.code)\n",
    "    return -best_individual.fitness,best_individual.code"
   ]
  },
  {
   "cell_type": "code",
   "execution_count": null,
   "id": "208f9b7f",
   "metadata": {},
   "outputs": [],
   "source": []
  }
 ],
 "metadata": {
  "kernelspec": {
   "display_name": "Python 3 (ipykernel)",
   "language": "python",
   "name": "python3"
  },
  "language_info": {
   "codemirror_mode": {
    "name": "ipython",
    "version": 3
   },
   "file_extension": ".py",
   "mimetype": "text/x-python",
   "name": "python",
   "nbconvert_exporter": "python",
   "pygments_lexer": "ipython3",
   "version": "3.9.5"
  }
 },
 "nbformat": 4,
 "nbformat_minor": 5
}
