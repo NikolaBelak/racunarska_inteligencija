{
 "cells": [
  {
   "cell_type": "code",
   "execution_count": 1,
   "id": "e0bf24ee",
   "metadata": {},
   "outputs": [],
   "source": [
    "import random\n",
    "import numpy as np"
   ]
  },
  {
   "cell_type": "code",
   "execution_count": 2,
   "id": "bd8df96e",
   "metadata": {},
   "outputs": [],
   "source": [
    "def is_satisfied(formula, valuation):\n",
    "    for clause in formula:\n",
    "        clause_satisfied = False\n",
    "        for literal in clause:\n",
    "            variable = abs(literal)\n",
    "            is_negated = False\n",
    "            if literal < 0:\n",
    "                is_negated = True\n",
    "            if is_negated:\n",
    "                value = not valuation[variable]\n",
    "            else:\n",
    "                value = valuation[variable]\n",
    "            if value:\n",
    "                clause_satisfied=True\n",
    "                break\n",
    "        \n",
    "        if not clause_satisfied:\n",
    "            return False\n",
    "    return True"
   ]
  },
  {
   "cell_type": "code",
   "execution_count": 3,
   "id": "5938c58d",
   "metadata": {},
   "outputs": [],
   "source": [
    "def count_satisfied_formulas(formulas, valuation):\n",
    "    count = 0\n",
    "    for formula in formulas:\n",
    "        if is_satisfied(formula, valuation):\n",
    "            count += 1\n",
    "    return count"
   ]
  },
  {
   "cell_type": "code",
   "execution_count": 4,
   "id": "1eafc2a9",
   "metadata": {},
   "outputs": [],
   "source": [
    "def generate_random_valuation(variables):\n",
    "    return {var:random.choice([True,False]) for var in variables}"
   ]
  },
  {
   "cell_type": "code",
   "execution_count": 5,
   "id": "ab3192c0",
   "metadata": {},
   "outputs": [],
   "source": [
    "def shaking(valuation,k):\n",
    "    chosen_var=random.sample(range(1,len(valuation)),k)\n",
    "    new_valuation=valuation.copy()\n",
    "    for var in chosen_var:\n",
    "        new_valuation[var]=not new_valuation[var]\n",
    "    \n",
    "    return new_valuation"
   ]
  },
  {
   "cell_type": "code",
   "execution_count": 6,
   "id": "87f783d0",
   "metadata": {},
   "outputs": [],
   "source": [
    "def local_search(formulas,variables,valuation):\n",
    "    min_satisfied=count_satisfied_formulas(formulas,valuation)\n",
    "    \n",
    "    while True:\n",
    "        improved=False\n",
    "        for var in variables:\n",
    "            new_valuation=valuation.copy()\n",
    "            new_valuation[var]=not new_valuation[var]\n",
    "            satisfied=count_satisfied_formulas(formulas,new_valuation)\n",
    "            \n",
    "            if satisfied<min_satisfied:\n",
    "                valuation=new_valuation\n",
    "                min_satisfied=satisfied\n",
    "                improved=True\n",
    "        \n",
    "        if not improved:\n",
    "            break\n",
    "        \n",
    "    return min_satisfied,valuation\n",
    "                "
   ]
  },
  {
   "cell_type": "code",
   "execution_count": 1,
   "id": "4bc21d1e",
   "metadata": {},
   "outputs": [],
   "source": [
    "def vns(formulas,variables,max_iters,k_max,move_prob):\n",
    "    best_valuation=generate_random_valuation(variables)\n",
    "    min_satisfied=count_satisfied_formulas(formulas,best_valuation)\n",
    "    \n",
    "    for i in range(max_iters):\n",
    "        for k in range(1, k_max):\n",
    "            shaked_valuation=shaking(best_valuation,k)\n",
    "            satisfied,new_valuation=local_search(formulas,variables,shaked_valuation)\n",
    "            \n",
    "            if satisfied<min_satisfied or (satisfied==min_satisfied and random.random()<move_prob):\n",
    "                min_satisfied=satisfied\n",
    "                best_valuation=new_valuation\n",
    "                break\n",
    "    return min_satisfied,best_valuation"
   ]
  },
  {
   "cell_type": "code",
   "execution_count": null,
   "id": "a3b54b96",
   "metadata": {},
   "outputs": [],
   "source": []
  }
 ],
 "metadata": {
  "kernelspec": {
   "display_name": "Python 3 (ipykernel)",
   "language": "python",
   "name": "python3"
  },
  "language_info": {
   "codemirror_mode": {
    "name": "ipython",
    "version": 3
   },
   "file_extension": ".py",
   "mimetype": "text/x-python",
   "name": "python",
   "nbconvert_exporter": "python",
   "pygments_lexer": "ipython3",
   "version": "3.9.5"
  }
 },
 "nbformat": 4,
 "nbformat_minor": 5
}
