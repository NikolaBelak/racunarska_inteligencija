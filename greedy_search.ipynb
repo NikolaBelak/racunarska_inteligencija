{
 "cells": [
  {
   "cell_type": "code",
   "execution_count": 1,
   "id": "fc54717a",
   "metadata": {},
   "outputs": [],
   "source": [
    "import random\n",
    "import numpy as np"
   ]
  },
  {
   "cell_type": "code",
   "execution_count": 2,
   "id": "0e8ccc8c",
   "metadata": {},
   "outputs": [],
   "source": [
    "def is_satisfied(formula, valuation):\n",
    "    for clause in formula:\n",
    "        clause_satisfied = False\n",
    "        for literal in clause:\n",
    "            variable = abs(literal)\n",
    "            is_negated = False\n",
    "            if literal < 0:\n",
    "                is_negated = True\n",
    "            if is_negated:\n",
    "                value = not valuation[variable]\n",
    "            else:\n",
    "                value = valuation[variable]\n",
    "            if value:\n",
    "                clause_satisfied=True\n",
    "                break\n",
    "        \n",
    "        if not clause_satisfied:\n",
    "            return False\n",
    "    return True"
   ]
  },
  {
   "cell_type": "code",
   "execution_count": 3,
   "id": "b3bef985",
   "metadata": {},
   "outputs": [],
   "source": [
    "def count_satisfied_formulas(formulas, valuation):\n",
    "    count = 0\n",
    "    for formula in formulas:\n",
    "        if is_satisfied(formula, valuation):\n",
    "            count += 1\n",
    "    return count"
   ]
  },
  {
   "cell_type": "code",
   "execution_count": 4,
   "id": "0ee9710f",
   "metadata": {},
   "outputs": [],
   "source": [
    "def make_small_change(valuation):\n",
    "    new_valuation=valuation.copy()\n",
    "    var=random.randrange(1,len(new_valuation))\n",
    "    new_valuation[var]=not new_valuation[var]\n",
    "    return new_valuation"
   ]
  },
  {
   "cell_type": "code",
   "execution_count": 44,
   "id": "b17c7859",
   "metadata": {},
   "outputs": [],
   "source": [
    "def greedy_search(formulas,variables,max_iters):\n",
    "    #min_valuation={var:False for var in variables}\n",
    "    #min_satisfied=len(formulas)\n",
    "    \n",
    "    #for i in range(max_iters):\n",
    "     #   valuation=make_small_change(min_valuation)\n",
    "      #  satisfied=count_satisfied_formulas(formulas,valuation)\n",
    "        \n",
    "       # if satisfied<min_satisfied:\n",
    "        #    min_satisfied=satisfied\n",
    "         #   min_valuation=valuation\n",
    "        \n",
    "    #return min_satisfied,min_valuation\n",
    "    min_satisfied=len(formulas)\n",
    "    min_valuation={}\n",
    "    valuation={var:False for var in variables}\n",
    "    \n",
    "    for variable in variables:\n",
    "        valuation[variable]=True\n",
    "        satisfied=count_satisfied_formulas(formulas,valuation)\n",
    "        \n",
    "        if satisfied<min_satisfied:\n",
    "            min_satisfied=satisfied\n",
    "            min_valuation=valuation.copy()\n",
    "        \n",
    "        valuation[variable] = False\n",
    "        satisfied=count_satisfied_formulas(formulas,valuation)\n",
    "        \n",
    "        if satisfied<min_satisfied:\n",
    "            min_satisfied=satisfied\n",
    "            min_valuation=valuation.copy()\n",
    "    \n",
    "    return min_satisfied, min_valuation"
   ]
  },
  {
   "cell_type": "code",
   "execution_count": null,
   "id": "4caa98ca",
   "metadata": {},
   "outputs": [],
   "source": []
  }
 ],
 "metadata": {
  "kernelspec": {
   "display_name": "Python 3 (ipykernel)",
   "language": "python",
   "name": "python3"
  },
  "language_info": {
   "codemirror_mode": {
    "name": "ipython",
    "version": 3
   },
   "file_extension": ".py",
   "mimetype": "text/x-python",
   "name": "python",
   "nbconvert_exporter": "python",
   "pygments_lexer": "ipython3",
   "version": "3.9.5"
  }
 },
 "nbformat": 4,
 "nbformat_minor": 5
}
